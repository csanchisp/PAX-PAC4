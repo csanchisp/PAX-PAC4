{
 "cells": [
  {
   "cell_type": "code",
   "execution_count": 1,
   "metadata": {},
   "outputs": [],
   "source": [
    "import pandas as pd\n",
    "import datetime as dt"
   ]
  },
  {
   "cell_type": "code",
   "execution_count": 2,
   "metadata": {},
   "outputs": [],
   "source": [
    "# Carraguem el conjunt de dades\n",
    "pax = pd.read_csv('pax_all_agreements_data.csv')"
   ]
  },
  {
   "cell_type": "code",
   "execution_count": 3,
   "metadata": {},
   "outputs": [],
   "source": [
    "# Seleccionem les columnes amb les que volem treballar: basics + drets humans\n",
    "#columns = ['Con','Contp','PPName','Reg','AgtId','Agt','Dat','Status','Agtp','Stage','StageSub','HrGen'\n",
    "#           ,'EqGen','HrDem','HrFra','HrfSp','HrfBor','HrfTinc','HrfOth','HrCp','CprLife','CprTort','CprEq'\n",
    "#           ,'CprSlav','CprLib','CprDet','CprFmov','CprFspe','CprFass','CprTria','CprPriv','CprVote','CprReli'\n",
    "#           ,'CprOth','HrSec','SerProp','SerWork','SerHeal','SerEdu','SerStdl','SerShel','SerSs','SerCult'\n",
    "#           ,'SerOth','HrNi','HrNiMe','HrNiNe','HrNiOth','HrIi','HrIiMon','HrIiBod','HrIiOth','HrMob','HrDet'\n",
    "#           ,'Med','MedGov','MedSubs','MedLog','MedOth','HrCit','CitGen','CitRights','CitDef','CitOth']\n",
    "columns = ['Con','Contp','Reg','AgtId','Agt','Dat','Status','HrGen','EqGen','HrDem','HrFra','HrfSp','HrfBor'\n",
    "           ,'HrfTinc','HrfOth','HrCp','CprLife','CprTort','CprEq','CprSlav','CprLib','CprDet','CprFmov'\n",
    "           ,'CprFspe','CprFass','CprTria','CprPriv','CprVote','CprReli','CprOth','HrSec','SerProp','SerWork'\n",
    "           ,'SerHeal','SerEdu','SerStdl','SerShel','SerSs','SerCult','SerOth','HrNi','HrNiMe','HrNiNe'\n",
    "           ,'HrNiOth','HrIi','HrIiMon','HrIiBod','HrIiOth','HrMob','HrDet','Med','MedGov','MedSubs','MedLog'\n",
    "           ,'MedOth','HrCit','CitGen','CitRights','CitDef','CitOth']\n",
    "pax = pax[columns]"
   ]
  },
  {
   "cell_type": "code",
   "execution_count": 4,
   "metadata": {},
   "outputs": [],
   "source": [
    "########################################\n",
    "# Eliminem els registres de l'any 2020 #\n",
    "########################################\n",
    "\n",
    "# Funcio: Char to date\n",
    "def f_char_to_date(data_character):\n",
    "    return dt.datetime.strptime(data_character, '%Y-%m-%d').date()"
   ]
  },
  {
   "cell_type": "code",
   "execution_count": 5,
   "metadata": {},
   "outputs": [],
   "source": [
    "pax['Dat']= pax['Dat'].apply(f_char_to_date)\n",
    "pax= pax[pax['Dat']<=dt.date(2019,12,31)].reset_index(drop=True)"
   ]
  },
  {
   "cell_type": "code",
   "execution_count": 6,
   "metadata": {},
   "outputs": [],
   "source": [
    "# Ens quedem amb l'any, les altres dades no ens interessim\n",
    "pax['Dat'] = pd.DatetimeIndex(pax['Dat']).year"
   ]
  },
  {
   "cell_type": "code",
   "execution_count": 7,
   "metadata": {},
   "outputs": [],
   "source": [
    "#####################################################\n",
    "# Ens quedem amb el country eliminant les entities  #\n",
    "#####################################################\n",
    "list_con   = []\n",
    "list_con   = pax['Con']\n",
    "list_final = []\n",
    "\n",
    "# Recorrem la llista de paissos, i per cada element separem per / i ens quedem amb el primer que és el Country\n",
    "for index in range(len(list_con)):\n",
    "    list_split = list_con[index].split(\"/\")\n",
    "    list_final.append(list_split[0])\n",
    "    \n",
    "pax['Con'] = list_final"
   ]
  },
  {
   "cell_type": "code",
   "execution_count": 8,
   "metadata": {},
   "outputs": [],
   "source": [
    "pax['Num_Agr'] = 1"
   ]
  },
  {
   "cell_type": "code",
   "execution_count": 9,
   "metadata": {},
   "outputs": [],
   "source": [
    "pax['Text_HRCP'] =pax['HrCp'].apply(lambda x: 'Civil i Politic ' if x >= 1  else '')\n",
    "pax['Text_CprLife'] =pax['CprLife'].apply(lambda x: 'Vida ' if x >= 1  else '')\n",
    "pax['Text_CprTort'] =pax['CprTort'].apply(lambda x: 'Tortura ' if x >= 1  else '')\n",
    "pax['Text_CprEq'] =pax['CprEq'].apply(lambda x: 'Igualtat i Seguretat ' if x >= 1  else '')\n",
    "pax['Text_CprSlav'] =pax['CprSlav'].apply(lambda x: 'Esclavitud ' if x >= 1  else '')       \n",
    "pax['Text_CprLib'] =pax['CprLib'].apply(lambda x: 'Llibetat i Seguretat de la Persona ' if x >= 1  else '')  \n",
    "pax['Text_CprDet'] =pax['CprDet'].apply(lambda x: 'Tracte Humà a la Detenció ' if x >= 1  else '') \n",
    "pax['Text_CprFmov'] =pax['CprFmov'].apply(lambda x: 'Llibertat Moviment ' if x >= 1  else '') \n",
    "pax['Text_CprFspe'] =pax['CprFspe'].apply(lambda x: 'Llibertat Expressió ' if x >= 1  else '') \n",
    "pax['Text_CprFass'] =pax['CprFass'].apply(lambda x: 'Llibertat Associació ' if x >= 1  else '')\n",
    "pax['Text_CprTria'] =pax['CprTria'].apply(lambda x: 'Judici Just ' if x >= 1  else '')\n",
    "pax['Text_CprPriv'] =pax['CprPriv'].apply(lambda x: 'Privacitat i Vida Familiar ' if x >= 1  else '')\n",
    "pax['Text_CprVote'] =pax['CprVote'].apply(lambda x: 'Vot ' if x >= 1  else '')\n",
    "pax['Text_CprReli'] =pax['CprReli'].apply(lambda x: 'Pensament, opinió, consciència i religió ' if x >= 1  else '')\n",
    "pax['Text_CprOth'] =pax['CprOth'].apply(lambda x: 'Altres drets Civils i Polítics ' if x >= 1  else '')       \n",
    "pax['Text_HrSec'] =pax['HrSec'].apply(lambda x: 'Socioeconòmic ' if x >= 1  else '')    \n",
    "pax['Text_SerProp'] =pax['SerProp'].apply(lambda x: 'Propietat ' if x >= 1  else '')    \n",
    "pax['Text_SerWork'] =pax['SerWork'].apply(lambda x: 'Treball ' if x >= 1  else '')    \n",
    "pax['Text_SerHeal'] =pax['SerHeal'].apply(lambda x: 'Salut ' if x >= 1  else '')    \n",
    "pax['Text_SerEdu'] =pax['SerEdu'].apply(lambda x: 'Educació ' if x >= 1  else '')    \n",
    "pax['Text_SerStdl'] =pax['SerStdl'].apply(lambda x: 'Nivell Adequat de Vida ' if x >= 1  else '')    \n",
    "pax['Text_SerShel'] =pax['SerShel'].apply(lambda x: 'Refugi ' if x >= 1  else '')    \n",
    "pax['Text_SerSs'] =pax['CprOth'].apply(lambda x: 'Seguretat Social ' if x >= 1  else '')    \n",
    "pax['Text_SerCult'] =pax['CprOth'].apply(lambda x: 'Accès a la Cultura ' if x >= 1  else '')    \n",
    "pax['Text_SerOth'] =pax['CprOth'].apply(lambda x: 'Altres drets Socioeconòmics ' if x >= 1  else '')"
   ]
  },
  {
   "cell_type": "code",
   "execution_count": 10,
   "metadata": {},
   "outputs": [],
   "source": [
    "#pd.DataFrame(pax).to_csv(\"pax_clean.csv\")\n",
    "pax.to_excel('PAC4_word.xlsx', sheet_name='PAC4')"
   ]
  },
  {
   "cell_type": "code",
   "execution_count": null,
   "metadata": {},
   "outputs": [],
   "source": []
  }
 ],
 "metadata": {
  "kernelspec": {
   "display_name": "Python 3",
   "language": "python",
   "name": "python3"
  },
  "language_info": {
   "codemirror_mode": {
    "name": "ipython",
    "version": 3
   },
   "file_extension": ".py",
   "mimetype": "text/x-python",
   "name": "python",
   "nbconvert_exporter": "python",
   "pygments_lexer": "ipython3",
   "version": "3.8.3"
  }
 },
 "nbformat": 4,
 "nbformat_minor": 4
}
